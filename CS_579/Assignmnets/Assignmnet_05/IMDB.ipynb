{
 "cells": [
  {
   "cell_type": "markdown",
   "id": "b09d6fcb",
   "metadata": {},
   "source": [
    "# Sahil Sheikh\n",
    "## CWID: A20518693\n",
    "## Subject:CS 577\n",
    "## Semester: FALL 22\n",
    "## ASSIGNMENT 5\n",
    "IMDB"
   ]
  },
  {
   "cell_type": "code",
   "execution_count": 1,
   "id": "955ac34a",
   "metadata": {},
   "outputs": [],
   "source": [
    "import pandas as pd\n",
    "import numpy as np\n",
    "import matplotlib.pyplot as plt\n",
    "import tensorflow as tf\n",
    "import keras\n",
    "from keras.models import Sequential\n",
    "from keras.layers import Dense, Dropout, Activation, Flatten,Embedding\n",
    "from keras.utils.data_utils import pad_sequences\n",
    "from sklearn.model_selection import train_test_split\n",
    "from keras.datasets import imdb"
   ]
  },
  {
   "cell_type": "markdown",
   "id": "65b320be",
   "metadata": {},
   "source": [
    "## Function to load IMDB dataset from keras"
   ]
  },
  {
   "cell_type": "code",
   "execution_count": 2,
   "id": "49f41ac9",
   "metadata": {},
   "outputs": [],
   "source": [
    "def load_data():\n",
    "    maxlen = 300\n",
    "    (train_x, train_y),(test_x, test_y) = imdb.load_data(num_words=10000,skip_top=0)\n",
    "    print(train_x.shape)\n",
    "    print(test_x.shape)\n",
    "    train_x = pad_sequences(train_x, maxlen=maxlen)\n",
    "    test_x = pad_sequences(test_x, maxlen=maxlen)\n",
    "    train_x,vali_x,train_y,vali_y = train_test_split(train_x,train_y, test_size=0.2)\n",
    "    \n",
    "    return train_x,train_y,vali_x,vali_y,test_x,test_y"
   ]
  },
  {
   "cell_type": "code",
   "execution_count": 3,
   "id": "04f39ed2",
   "metadata": {
    "scrolled": true
   },
   "outputs": [
    {
     "name": "stdout",
     "output_type": "stream",
     "text": [
      "(25000,)\n",
      "(25000,)\n"
     ]
    }
   ],
   "source": [
    "#call function to load dataset and return the req variables\n",
    "train_x, train_y, vali_x, vali_y, test_x, test_y = load_data()"
   ]
  },
  {
   "cell_type": "code",
   "execution_count": 4,
   "id": "764c31fb",
   "metadata": {},
   "outputs": [
    {
     "data": {
      "text/plain": [
       "numpy.ndarray"
      ]
     },
     "execution_count": 4,
     "metadata": {},
     "output_type": "execute_result"
    }
   ],
   "source": [
    "type(train_x)"
   ]
  },
  {
   "cell_type": "code",
   "execution_count": 5,
   "id": "13dc8ab6",
   "metadata": {},
   "outputs": [
    {
     "data": {
      "text/plain": [
       "numpy.ndarray"
      ]
     },
     "execution_count": 5,
     "metadata": {},
     "output_type": "execute_result"
    }
   ],
   "source": [
    "type(train_y)"
   ]
  },
  {
   "cell_type": "code",
   "execution_count": 111,
   "id": "b0c850ff",
   "metadata": {},
   "outputs": [
    {
     "name": "stdout",
     "output_type": "stream",
     "text": [
      "Training data shape: (20000, 300)\n",
      "Training label shape: (20000,)\n"
     ]
    }
   ],
   "source": [
    "print('Training data shape:',train_x.shape)\n",
    "print('Training label shape:',train_y.shape)"
   ]
  },
  {
   "cell_type": "code",
   "execution_count": 23,
   "id": "4e83bbff",
   "metadata": {},
   "outputs": [
    {
     "name": "stdout",
     "output_type": "stream",
     "text": [
      "Testing data shape: (25000, 300)\n",
      "Testing label shape: (25000,)\n",
      "Vali data shape: (5000, 300)\n",
      "Vali label shape: (5000,)\n"
     ]
    }
   ],
   "source": [
    "print('Testing data shape:',test_x.shape)\n",
    "print('Testing label shape:',test_y.shape)\n",
    "print('Vali data shape:',vali_x.shape)\n",
    "print('Vali label shape:',vali_y.shape)"
   ]
  },
  {
   "cell_type": "code",
   "execution_count": 24,
   "id": "aecb2429",
   "metadata": {},
   "outputs": [],
   "source": [
    "def model_1():\n",
    "    model = tf.keras.Sequential([\n",
    "        keras.layers.Embedding(10000,64,input_length=300),\n",
    "        keras.layers.Flatten(),\n",
    "        keras.layers.Dense(64,activation='relu'),\n",
    "        keras.layers.Dense(1,activation='sigmoid')\n",
    "    ])\n",
    "    model.compile(loss='binary_crossentropy', optimizer='rmsprop', metrics = ['acc'])\n",
    "    return model"
   ]
  },
  {
   "cell_type": "code",
   "execution_count": 25,
   "id": "4b54f3e6",
   "metadata": {},
   "outputs": [],
   "source": [
    "def model_2():\n",
    "    model = tf.keras.Sequential([\n",
    "        keras.layers.Embedding(10000,64,input_length=300),\n",
    "        keras.layers.Flatten(),\n",
    "        keras.layers.Dense(64,activation='relu'),\n",
    "        keras.layers.Dense(1,activation='sigmoid')\n",
    "    ])\n",
    "    model.compile(loss='binary_crossentropy', optimizer='SGD', metrics = ['acc'])\n",
    "    return model"
   ]
  },
  {
   "cell_type": "code",
   "execution_count": 29,
   "id": "37993e0e",
   "metadata": {},
   "outputs": [],
   "source": [
    "def plot(history):\n",
    "    plt.plot(history.history['loss'])\n",
    "    plt.plot(history.history['val_loss'])\n",
    "    plt.title('model Loss')\n",
    "    plt.ylabel('Loss')\n",
    "    plt.xlabel('epoch')\n",
    "    plt.legend(['train', 'val'])\n",
    "    plt.show()\n",
    "    \n",
    "    plt.plot(history.history['acc'])\n",
    "    plt.plot(history.history['val_acc'])\n",
    "    plt.title('model accuracy')\n",
    "    plt.ylabel('accuracy')\n",
    "    plt.xlabel('epoch')\n",
    "    plt.legend(['train', 'val'])\n",
    "    plt.show()\n",
    "    return 0"
   ]
  },
  {
   "cell_type": "markdown",
   "id": "042e8069",
   "metadata": {},
   "source": [
    "## Training First model"
   ]
  },
  {
   "cell_type": "code",
   "execution_count": 33,
   "id": "c6802368",
   "metadata": {
    "scrolled": false
   },
   "outputs": [
    {
     "name": "stdout",
     "output_type": "stream",
     "text": [
      "Model: \"sequential_3\"\n",
      "_________________________________________________________________\n",
      " Layer (type)                Output Shape              Param #   \n",
      "=================================================================\n",
      " embedding_3 (Embedding)     (None, 300, 64)           640000    \n",
      "                                                                 \n",
      " flatten_3 (Flatten)         (None, 19200)             0         \n",
      "                                                                 \n",
      " dense_6 (Dense)             (None, 64)                1228864   \n",
      "                                                                 \n",
      " dense_7 (Dense)             (None, 1)                 65        \n",
      "                                                                 \n",
      "=================================================================\n",
      "Total params: 1,868,929\n",
      "Trainable params: 1,868,929\n",
      "Non-trainable params: 0\n",
      "_________________________________________________________________\n",
      "Epoch 1/5\n",
      "157/157 [==============================] - 1s 6ms/step - loss: 0.4907 - acc: 0.7395 - val_loss: 0.3224 - val_acc: 0.8550\n",
      "Epoch 2/5\n",
      "157/157 [==============================] - 0s 3ms/step - loss: 0.1744 - acc: 0.9345 - val_loss: 0.3580 - val_acc: 0.8500\n",
      "Epoch 3/5\n",
      "157/157 [==============================] - 1s 3ms/step - loss: 0.0480 - acc: 0.9865 - val_loss: 0.3945 - val_acc: 0.8546\n",
      "Epoch 4/5\n",
      "157/157 [==============================] - 1s 3ms/step - loss: 0.0068 - acc: 0.9988 - val_loss: 0.5236 - val_acc: 0.8502\n",
      "Epoch 5/5\n",
      "157/157 [==============================] - 0s 3ms/step - loss: 0.0011 - acc: 0.9999 - val_loss: 0.6273 - val_acc: 0.8524\n"
     ]
    },
    {
     "data": {
      "image/png": "[encoded data removed]",
      "text/plain": [
       "<Figure size 432x288 with 1 Axes>"
      ]
     },
     "metadata": {
      "needs_background": "light"
     },
     "output_type": "display_data"
    },
    {
     "data": {
      "image/png": "[encoded data removed]",
      "text/plain": [
       "<Figure size 432x288 with 1 Axes>"
      ]
     },
     "metadata": {
      "needs_background": "light"
     },
     "output_type": "display_data"
    },
    {
     "data": {
      "text/plain": [
       "0"
      ]
     },
     "execution_count": 33,
     "metadata": {},
     "output_type": "execute_result"
    }
   ],
   "source": [
    "epoch = 5\n",
    "b_size = 128\n",
    "model1_ep5 = model_1()\n",
    "model1_ep5.summary()\n",
    "results2 = model1_ep5.fit(train_x,train_y,epochs=epoch, validation_data=(vali_x,vali_y),batch_size=b_size)\n",
    "plot(results2)"
   ]
  },
  {
   "cell_type": "markdown",
   "id": "eae5a63e",
   "metadata": {},
   "source": [
    "## Evaluation of results"
   ]
  },
  {
   "cell_type": "code",
   "execution_count": 90,
   "id": "4e5518e8",
   "metadata": {},
   "outputs": [
    {
     "name": "stdout",
     "output_type": "stream",
     "text": [
      "782/782 [==============================] - 2s 2ms/step - loss: 1.4475 - acc: 0.8308\n",
      "Test accuracy of model is  83.0839991569519 %\n"
     ]
    }
   ],
   "source": [
    "loss,acc = model1.evaluate(test_x,test_y, verbose=1)\n",
    "print('Test accuracy of model is ', (acc)*100,'%')"
   ]
  },
  {
   "cell_type": "code",
   "execution_count": null,
   "id": "2c88d7d1",
   "metadata": {},
   "outputs": [],
   "source": [
    "## Training 2nd model"
   ]
  },
  {
   "cell_type": "code",
   "execution_count": 35,
   "id": "8722d344",
   "metadata": {},
   "outputs": [
    {
     "name": "stdout",
     "output_type": "stream",
     "text": [
      "Model: \"sequential_5\"\n",
      "_________________________________________________________________\n",
      " Layer (type)                Output Shape              Param #   \n",
      "=================================================================\n",
      " embedding_5 (Embedding)     (None, 300, 64)           640000    \n",
      "                                                                 \n",
      " flatten_5 (Flatten)         (None, 19200)             0         \n",
      "                                                                 \n",
      " dense_10 (Dense)            (None, 64)                1228864   \n",
      "                                                                 \n",
      " dense_11 (Dense)            (None, 1)                 65        \n",
      "                                                                 \n",
      "=================================================================\n",
      "Total params: 1,868,929\n",
      "Trainable params: 1,868,929\n",
      "Non-trainable params: 0\n",
      "_________________________________________________________________\n",
      "Epoch 1/5\n",
      "157/157 [==============================] - 1s 5ms/step - loss: 0.6929 - acc: 0.5106 - val_loss: 0.6927 - val_acc: 0.5080\n",
      "Epoch 2/5\n",
      "157/157 [==============================] - 0s 3ms/step - loss: 0.6922 - acc: 0.5210 - val_loss: 0.6923 - val_acc: 0.5154\n",
      "Epoch 3/5\n",
      "157/157 [==============================] - 0s 3ms/step - loss: 0.6917 - acc: 0.5294 - val_loss: 0.6921 - val_acc: 0.5168\n",
      "Epoch 4/5\n",
      "157/157 [==============================] - 0s 2ms/step - loss: 0.6912 - acc: 0.5350 - val_loss: 0.6918 - val_acc: 0.5190\n",
      "Epoch 5/5\n",
      "157/157 [==============================] - 0s 3ms/step - loss: 0.6906 - acc: 0.5404 - val_loss: 0.6915 - val_acc: 0.5212\n"
     ]
    },
    {
     "data": {
      "image/png": "[encoded data removed]",
      "text/plain": [
       "<Figure size 432x288 with 1 Axes>"
      ]
     },
     "metadata": {
      "needs_background": "light"
     },
     "output_type": "display_data"
    },
    {
     "data": {
      "image/png": "[encoded data removed]",
      "text/plain": [
       "<Figure size 432x288 with 1 Axes>"
      ]
     },
     "metadata": {
      "needs_background": "light"
     },
     "output_type": "display_data"
    },
    {
     "data": {
      "text/plain": [
       "0"
      ]
     },
     "execution_count": 35,
     "metadata": {},
     "output_type": "execute_result"
    }
   ],
   "source": [
    "epoch = 5\n",
    "b_size = 128\n",
    "model2 = model_2()\n",
    "model2.summary()\n",
    "results3 = model2.fit(train_x,train_y,epochs=epoch, validation_data=(vali_x,vali_y),batch_size=b_size)\n",
    "plot(results3)"
   ]
  },
  {
   "cell_type": "markdown",
   "id": "c5ac78bf",
   "metadata": {},
   "source": [
    "## From the results we can observe model 1 performs better than model 2\n",
    "So we save the weights of first model"
   ]
  },
  {
   "cell_type": "code",
   "execution_count": 36,
   "id": "f9bd8ff7",
   "metadata": {},
   "outputs": [],
   "source": [
    "model1_ep5.save('Model_imdb.h5')\n",
    "model1_ep5.save_weights('Model_imdn_weights.h5')"
   ]
  },
  {
   "cell_type": "markdown",
   "id": "fb729152",
   "metadata": {},
   "source": [
    "We will make of glove and load the raw data IMDB dataset from the file we downloaded"
   ]
  },
  {
   "cell_type": "code",
   "execution_count": 129,
   "id": "0846ea23",
   "metadata": {},
   "outputs": [],
   "source": [
    "#loading imdb dataset raw\n",
    "import os\n",
    "data_dir = 'C:/Users/sahil/Downloads/aclImdb_data/aclImdb/'\n",
    "train_dir = os.path.join(data_dir, 'train')\n",
    "labels = []\n",
    "texts = []\n",
    "for label_type in ['neg','pos']:\n",
    "    dir_name = os.path.join(train_dir,label_type)\n",
    "    for fname in os.listdir(dir_name):\n",
    "        if fname[-4:] == '.txt':\n",
    "            f = open(os.path.join(dir_name,fname),encoding=\"utf8\")\n",
    "            texts.append(f.read())\n",
    "            f.close()\n",
    "        if label_type == 'neg':\n",
    "            labels.append(0)\n",
    "        else:\n",
    "            labels.append(1)\n"
   ]
  },
  {
   "cell_type": "code",
   "execution_count": 39,
   "id": "6e0e9529",
   "metadata": {},
   "outputs": [
    {
     "name": "stdout",
     "output_type": "stream",
     "text": [
      "25000\n"
     ]
    }
   ],
   "source": [
    "print(len(labels))"
   ]
  },
  {
   "cell_type": "code",
   "execution_count": 40,
   "id": "473b7919",
   "metadata": {},
   "outputs": [
    {
     "name": "stdout",
     "output_type": "stream",
     "text": [
      "25000\n"
     ]
    }
   ],
   "source": [
    "print(len(texts))"
   ]
  },
  {
   "cell_type": "markdown",
   "id": "bd7a9874",
   "metadata": {},
   "source": [
    "Tokenizing the raw data from IMDB dataset"
   ]
  },
  {
   "cell_type": "code",
   "execution_count": 130,
   "id": "416944bf",
   "metadata": {},
   "outputs": [
    {
     "name": "stdout",
     "output_type": "stream",
     "text": [
      "Unique token found: 88582\n"
     ]
    }
   ],
   "source": [
    "from keras.preprocessing.text import Tokenizer\n",
    "maxlen = 300\n",
    "training_samples = 20000\n",
    "validation_samples = 1000\n",
    "max_words = 10000\n",
    "tokenizer = Tokenizer(num_words=max_words)\n",
    "tokenizer.fit_on_texts(texts)\n",
    "sequences = tokenizer.texts_to_sequences(texts)\n",
    "word_index = tokenizer.word_index\n",
    "print('Unique token found:', len(word_index))\n",
    "data = pad_sequences(sequences, maxlen=maxlen)\n",
    "labels = np.asarray(labels)\n"
   ]
  },
  {
   "cell_type": "code",
   "execution_count": 131,
   "id": "3a351ea3",
   "metadata": {},
   "outputs": [],
   "source": [
    "indices = np.arange(data.shape[0])\n",
    "np.random.shuffle(indices)\n",
    "data = data[indices]\n",
    "labels = labels[indices]\n",
    "x_train = data[:training_samples]\n",
    "y_train = labels[:training_samples]\n",
    "x_vali = data[training_samples: training_samples +validation_samples]\n",
    "y_vali = labels[training_samples: training_samples +validation_samples]"
   ]
  },
  {
   "cell_type": "code",
   "execution_count": 122,
   "id": "49ca1e0a",
   "metadata": {
    "collapsed": true
   },
   "outputs": [
    {
     "name": "stdout",
     "output_type": "stream",
     "text": [
      "[   2 4331   10   89  388  135   11 2385  198   97   21 5260  728 5894\n",
      "   10  241  249   11 2385  198   66    3   49  853    4  275    5   94\n",
      "    3   49 2385  198   18  469  139  212   21   25    7    7   15 1823\n",
      "   11 1265   47   68  104  669  616    1   83  571    3  186   62  561\n",
      "   34 6410    3  428 1307   31   32 1739   34 2535 1715    1  561  775\n",
      "    5   64 1440    8    1  428   14   26    6 1949  544 3136   26 2881\n",
      "  242    1 3371   18    9  938 3251  747   87   79    1 3226    4   32\n",
      " 2264    8   12  428    6  878   81    2    6   43    5  513   87   10\n",
      "   77   21   57  757    1  330  387   15   11 1265 1234 2814    2   65\n",
      "   85    9   13   57   50  354   71   11  387    7    7   11  861    6\n",
      "  218    2   35    1   62  141   27   49   18  100  316    9   10   13\n",
      " 3581   85   47   68   96  108 7267    8    1   62   14   70   14   12\n",
      "   13  616   12  119  161    5  335    1   62  100    1  233  133   10\n",
      "   13  314   16   50 1202   71 2765    7    7   10  800   15  339 2478\n",
      "    5   76   80   11 2385  198   18    9   13   40   96  685    5  336\n",
      "  534  226   45   11   13    3   17   10   59   25 1176   12   81  141\n",
      "  855   15    1   17    5  213   43   20 1875   39  138   10   59   21\n",
      "   57  383   12    9   27 1605    8  126  371 1130  187  345   12   11\n",
      "    6   20    3 1875 1305   10   59  132   45   22   25   21  107    9\n",
      "  458   92  350    9   15   28 1265   45   22   78   21   37    9   12\n",
      " 1265   92   22   77   21   37    1  498  198  882    1  702  661  234\n",
      "   33   29 1493    1  169  354]\n"
     ]
    }
   ],
   "source": [
    "print(data[0])"
   ]
  },
  {
   "cell_type": "code",
   "execution_count": 74,
   "id": "3bc6b385",
   "metadata": {},
   "outputs": [],
   "source": [
    "x_test = data[training_samples+validation_samples:]\n",
    "y_test = labels[training_samples+validation_samples:]"
   ]
  },
  {
   "cell_type": "code",
   "execution_count": 75,
   "id": "8ca3c8ec",
   "metadata": {},
   "outputs": [
    {
     "name": "stdout",
     "output_type": "stream",
     "text": [
      "(20000, 300)\n"
     ]
    }
   ],
   "source": [
    "print(x_train.shape)"
   ]
  },
  {
   "cell_type": "code",
   "execution_count": 77,
   "id": "1358bd6c",
   "metadata": {},
   "outputs": [
    {
     "name": "stdout",
     "output_type": "stream",
     "text": [
      "(1000, 300)\n"
     ]
    }
   ],
   "source": [
    "print(x_vali.shape)"
   ]
  },
  {
   "cell_type": "code",
   "execution_count": 78,
   "id": "b9414b45",
   "metadata": {},
   "outputs": [
    {
     "name": "stdout",
     "output_type": "stream",
     "text": [
      "(4000, 300)\n"
     ]
    }
   ],
   "source": [
    "print(x_test.shape)"
   ]
  },
  {
   "cell_type": "markdown",
   "id": "747ba3f0",
   "metadata": {},
   "source": [
    "Loading the glove file and convert it into embedding matrix"
   ]
  },
  {
   "cell_type": "code",
   "execution_count": 132,
   "id": "6fd13298",
   "metadata": {},
   "outputs": [
    {
     "name": "stdout",
     "output_type": "stream",
     "text": [
      "Found 400000 word vectors.\n"
     ]
    }
   ],
   "source": [
    "glove_file = 'C:/Users/sahil/Downloads/glove.6B'\n",
    "\n",
    "embedding_index = {}\n",
    "f = open(os.path.join(glove_file,'glove.6B.100d.txt'), encoding=\"utf8\")\n",
    "for line in f:\n",
    "    values = line.split()\n",
    "    word = values[0]\n",
    "    coefs = np.asarray(values[1:], dtype='float32')\n",
    "    embedding_index[word] = coefs\n",
    "f.close()\n",
    "print(\"Found %s word vectors.\" % len(embedding_index))\n"
   ]
  },
  {
   "cell_type": "code",
   "execution_count": 135,
   "id": "b1c344f4",
   "metadata": {},
   "outputs": [
    {
     "name": "stdout",
     "output_type": "stream",
     "text": [
      "(10000, 64)\n"
     ]
    }
   ],
   "source": [
    "embedding_dim = 64\n",
    "embedding_matrix = np.zeros((max_words, embedding_dim))\n",
    "print(embedding_matrix.shape)\n",
    "for word, i in word_index.items():\n",
    "    if i < max_words:\n",
    "        embedding_vector = embeddings_index.get(word)\n",
    "        if embedding_vector is not None:\n",
    "            embedding_matrix[i] = embedding_vector"
   ]
  },
  {
   "cell_type": "code",
   "execution_count": 59,
   "id": "ece05be6",
   "metadata": {},
   "outputs": [],
   "source": [
    "from keras.models import Sequential \n",
    "from keras.layers import Embedding, Flatten, Dense"
   ]
  },
  {
   "cell_type": "code",
   "execution_count": 60,
   "id": "cd30d5f6",
   "metadata": {},
   "outputs": [
    {
     "name": "stdout",
     "output_type": "stream",
     "text": [
      "10000\n"
     ]
    }
   ],
   "source": [
    "print(max_words)"
   ]
  },
  {
   "cell_type": "markdown",
   "id": "4fe1a064",
   "metadata": {},
   "source": [
    "## Creating model with Embedding matrix"
   ]
  },
  {
   "cell_type": "code",
   "execution_count": 117,
   "id": "9d660e88",
   "metadata": {},
   "outputs": [
    {
     "name": "stdout",
     "output_type": "stream",
     "text": [
      "Model: \"sequential_10\"\n",
      "_________________________________________________________________\n",
      " Layer (type)                Output Shape              Param #   \n",
      "=================================================================\n",
      " embedding_10 (Embedding)    (None, 300, 64)           640000    \n",
      "                                                                 \n",
      " flatten_10 (Flatten)        (None, 19200)             0         \n",
      "                                                                 \n",
      " dense_19 (Dense)            (None, 64)                1228864   \n",
      "                                                                 \n",
      " dense_20 (Dense)            (None, 1)                 65        \n",
      "                                                                 \n",
      "=================================================================\n",
      "Total params: 1,868,929\n",
      "Trainable params: 1,868,929\n",
      "Non-trainable params: 0\n",
      "_________________________________________________________________\n"
     ]
    }
   ],
   "source": [
    "model_Em = Sequential()\n",
    "model_Em.add(Embedding(max_words, embedding_dim, input_length=maxlen))\n",
    "model_Em.add(Flatten())\n",
    "model_Em.add(Dense(64,activation='relu'))\n",
    "model_Em.add(Dense(1,activation='sigmoid'))\n",
    "model_Em.summary()\n",
    "model_Em.layers[0].set_weights([embedding_matrix])\n",
    "model_Em.layers[0].trainable = False"
   ]
  },
  {
   "cell_type": "code",
   "execution_count": 118,
   "id": "d28710e5",
   "metadata": {},
   "outputs": [],
   "source": [
    "model_Em.compile(loss='binary_crossentropy', optimizer='rmsprop', metrics = ['acc'])"
   ]
  },
  {
   "cell_type": "code",
   "execution_count": 119,
   "id": "4ad0754c",
   "metadata": {},
   "outputs": [],
   "source": [
    "def plot_2(history):\n",
    "    acc = history.history['acc']\n",
    "    loss = history.history['loss']\n",
    "    val_acc =history.history['val_acc']\n",
    "    val_loss =history.history['val_loss']\n",
    "    epochs=range(1,len(acc)+1)\n",
    "    plt.plot(epochs,acc,'bo',label='training acc')\n",
    "    plt.plot(epochs,acc,'g',label='training acc')\n",
    "    plt.plot(epochs,val_acc,'b',label='validation acc')\n",
    "    plt.title('Training and validation acc')\n",
    "    plt.legend()\n",
    "    plt.show()\n",
    "    plt.plot(epochs,loss,'bo',label='training loss')\n",
    "    plt.plot(epochs,loss,'g',label='training loss')\n",
    "    plt.plot(epochs,val_loss,'b',label='validation loss')\n",
    "    plt.title('Training and validation loss')\n",
    "    plt.legend()\n",
    "    plt.show()\n",
    "    return 0"
   ]
  },
  {
   "cell_type": "markdown",
   "id": "176773b2",
   "metadata": {},
   "source": [
    "Training of model"
   ]
  },
  {
   "cell_type": "code",
   "execution_count": 120,
   "id": "172b1c7c",
   "metadata": {},
   "outputs": [
    {
     "name": "stdout",
     "output_type": "stream",
     "text": [
      "Epoch 1/10\n",
      "625/625 [==============================] - 2s 3ms/step - loss: 0.6932 - acc: 0.4999 - val_loss: 0.6934 - val_acc: 0.4780\n",
      "Epoch 2/10\n",
      "625/625 [==============================] - 1s 2ms/step - loss: 0.6932 - acc: 0.4958 - val_loss: 0.6931 - val_acc: 0.5220\n",
      "Epoch 3/10\n",
      "625/625 [==============================] - 1s 2ms/step - loss: 0.6931 - acc: 0.5052 - val_loss: 0.6928 - val_acc: 0.5220\n",
      "Epoch 4/10\n",
      "625/625 [==============================] - 1s 2ms/step - loss: 0.6932 - acc: 0.4990 - val_loss: 0.6928 - val_acc: 0.5220\n",
      "Epoch 5/10\n",
      "625/625 [==============================] - 1s 2ms/step - loss: 0.6932 - acc: 0.5027 - val_loss: 0.6926 - val_acc: 0.5220\n",
      "Epoch 6/10\n",
      "625/625 [==============================] - 1s 2ms/step - loss: 0.6932 - acc: 0.5012 - val_loss: 0.6929 - val_acc: 0.5220\n",
      "Epoch 7/10\n",
      "625/625 [==============================] - 1s 2ms/step - loss: 0.6932 - acc: 0.5009 - val_loss: 0.6930 - val_acc: 0.5220\n",
      "Epoch 8/10\n",
      "625/625 [==============================] - 1s 2ms/step - loss: 0.6932 - acc: 0.4970 - val_loss: 0.6931 - val_acc: 0.5220\n",
      "Epoch 9/10\n",
      "625/625 [==============================] - 1s 2ms/step - loss: 0.6932 - acc: 0.5005 - val_loss: 0.6930 - val_acc: 0.5220\n",
      "Epoch 10/10\n",
      "625/625 [==============================] - 1s 2ms/step - loss: 0.6932 - acc: 0.4974 - val_loss: 0.6931 - val_acc: 0.5220\n"
     ]
    }
   ],
   "source": [
    "history = model_Em.fit(x_train, y_train, epochs=10,validation_data=(x_val,y_val), batch_size=32, verbose=1)"
   ]
  },
  {
   "cell_type": "markdown",
   "id": "09eaaa48",
   "metadata": {},
   "source": [
    "Plotting the graphs "
   ]
  },
  {
   "cell_type": "code",
   "execution_count": 121,
   "id": "f6fba433",
   "metadata": {},
   "outputs": [
    {
     "data": {
      "image/png": "[encoded data removed]",
      "text/plain": [
       "<Figure size 432x288 with 1 Axes>"
      ]
     },
     "metadata": {
      "needs_background": "light"
     },
     "output_type": "display_data"
    },
    {
     "data": {
      "image/png": "[encoded data removed]",
      "text/plain": [
       "<Figure size 432x288 with 1 Axes>"
      ]
     },
     "metadata": {
      "needs_background": "light"
     },
     "output_type": "display_data"
    },
    {
     "data": {
      "text/plain": [
       "0"
      ]
     },
     "execution_count": 121,
     "metadata": {},
     "output_type": "execute_result"
    }
   ],
   "source": [
    "plot_2(history)"
   ]
  },
  {
   "cell_type": "markdown",
   "id": "aa21f42a",
   "metadata": {},
   "source": [
    "Saving the model aand evaluating the results of the model"
   ]
  },
  {
   "cell_type": "code",
   "execution_count": 83,
   "id": "4cd42614",
   "metadata": {},
   "outputs": [],
   "source": [
    "model_Em.save_weights('Embedding_layer_weights.h5')"
   ]
  },
  {
   "cell_type": "code",
   "execution_count": 92,
   "id": "7d1a5414",
   "metadata": {},
   "outputs": [
    {
     "name": "stdout",
     "output_type": "stream",
     "text": [
      "125/125 [==============================] - 0s 3ms/step - loss: 0.6932 - acc: 0.4988\n",
      "Test accuracy of model is  49.87500011920929 %\n"
     ]
    }
   ],
   "source": [
    "loss,acc = model_Em.evaluate(x_test,y_test, verbose=1)\n",
    "print('Test accuracy of model is ', (acc)*100,'%')"
   ]
  },
  {
   "cell_type": "markdown",
   "id": "f7a6af23",
   "metadata": {},
   "source": [
    "## Creating a model with LTSM layer"
   ]
  },
  {
   "cell_type": "code",
   "execution_count": 86,
   "id": "6ec2e233",
   "metadata": {},
   "outputs": [
    {
     "name": "stdout",
     "output_type": "stream",
     "text": [
      "Model: \"sequential_9\"\n",
      "_________________________________________________________________\n",
      " Layer (type)                Output Shape              Param #   \n",
      "=================================================================\n",
      " embedding_9 (Embedding)     (None, 300, 64)           640000    \n",
      "                                                                 \n",
      " lstm (LSTM)                 (None, 62)                31496     \n",
      "                                                                 \n",
      " flatten_9 (Flatten)         (None, 62)                0         \n",
      "                                                                 \n",
      " dense_18 (Dense)            (None, 1)                 63        \n",
      "                                                                 \n",
      "=================================================================\n",
      "Total params: 671,559\n",
      "Trainable params: 671,559\n",
      "Non-trainable params: 0\n",
      "_________________________________________________________________\n"
     ]
    }
   ],
   "source": [
    "from keras.layers import LSTM \n",
    "model = Sequential()\n",
    "model.add(Embedding(max_words, embedding_dim, input_length=maxlen))\n",
    "model.add(LSTM(62))\n",
    "model.add(Flatten())\n",
    "model.add(Dense(1, activation='sigmoid'))\n",
    "model.summary()"
   ]
  },
  {
   "cell_type": "code",
   "execution_count": 87,
   "id": "b255053d",
   "metadata": {},
   "outputs": [],
   "source": [
    "model.compile(loss='binary_crossentropy', optimizer='rmsprop', metrics = ['acc'])"
   ]
  },
  {
   "cell_type": "markdown",
   "id": "4f6fc6d3",
   "metadata": {},
   "source": [
    "## Training and plotting of graphs"
   ]
  },
  {
   "cell_type": "code",
   "execution_count": 93,
   "id": "baa2fe76",
   "metadata": {},
   "outputs": [
    {
     "name": "stdout",
     "output_type": "stream",
     "text": [
      "Epoch 1/10\n",
      "625/625 [==============================] - 13s 16ms/step - loss: 0.6935 - acc: 0.4963 - val_loss: 0.6928 - val_acc: 0.4810\n",
      "Epoch 2/10\n",
      "625/625 [==============================] - 9s 15ms/step - loss: 0.6802 - acc: 0.5732 - val_loss: 0.6541 - val_acc: 0.6410\n",
      "Epoch 3/10\n",
      "625/625 [==============================] - 9s 15ms/step - loss: 0.6259 - acc: 0.6471 - val_loss: 0.5985 - val_acc: 0.6890\n",
      "Epoch 4/10\n",
      "625/625 [==============================] - 9s 15ms/step - loss: 0.5604 - acc: 0.7128 - val_loss: 0.5138 - val_acc: 0.7430\n",
      "Epoch 5/10\n",
      "625/625 [==============================] - 9s 15ms/step - loss: 0.4942 - acc: 0.7588 - val_loss: 0.4730 - val_acc: 0.7870\n",
      "Epoch 6/10\n",
      "625/625 [==============================] - 10s 15ms/step - loss: 0.4271 - acc: 0.8029 - val_loss: 0.4164 - val_acc: 0.8170\n",
      "Epoch 7/10\n",
      "625/625 [==============================] - 9s 14ms/step - loss: 0.3636 - acc: 0.8407 - val_loss: 0.3796 - val_acc: 0.8440\n",
      "Epoch 8/10\n",
      "625/625 [==============================] - 9s 15ms/step - loss: 0.3051 - acc: 0.8727 - val_loss: 0.3698 - val_acc: 0.8480\n",
      "Epoch 9/10\n",
      "625/625 [==============================] - 9s 15ms/step - loss: 0.2446 - acc: 0.9028 - val_loss: 0.3799 - val_acc: 0.8540\n",
      "Epoch 10/10\n",
      "625/625 [==============================] - 9s 15ms/step - loss: 0.1971 - acc: 0.9231 - val_loss: 0.3365 - val_acc: 0.8800\n"
     ]
    },
    {
     "data": {
      "image/png": "[encoded data removed]",
      "text/plain": [
       "<Figure size 432x288 with 1 Axes>"
      ]
     },
     "metadata": {
      "needs_background": "light"
     },
     "output_type": "display_data"
    },
    {
     "data": {
      "image/png": "[encoded data removed]",
      "text/plain": [
       "<Figure size 432x288 with 1 Axes>"
      ]
     },
     "metadata": {
      "needs_background": "light"
     },
     "output_type": "display_data"
    },
    {
     "data": {
      "text/plain": [
       "0"
      ]
     },
     "execution_count": 93,
     "metadata": {},
     "output_type": "execute_result"
    }
   ],
   "source": [
    "history2 = model.fit(x_train, y_train, epochs=10,validation_data=(x_val,y_val), batch_size=32, verbose=1)\n",
    "plot_2(history2)"
   ]
  },
  {
   "cell_type": "markdown",
   "id": "47349fc5",
   "metadata": {},
   "source": [
    "## Evaluating the performance and saving weights"
   ]
  },
  {
   "cell_type": "code",
   "execution_count": 94,
   "id": "9a612da9",
   "metadata": {},
   "outputs": [
    {
     "name": "stdout",
     "output_type": "stream",
     "text": [
      "125/125 [==============================] - 1s 9ms/step - loss: 0.3800 - acc: 0.8712\n",
      "Test accuracy of model is  87.12499737739563 %\n"
     ]
    }
   ],
   "source": [
    "loss,acc = model.evaluate(x_test,y_test, verbose=1)\n",
    "print('Test accuracy of model is ', (acc)*100,'%')"
   ]
  },
  {
   "cell_type": "code",
   "execution_count": 97,
   "id": "58e44541",
   "metadata": {},
   "outputs": [],
   "source": [
    "model.save_weights('lstm_model.h5')"
   ]
  },
  {
   "cell_type": "code",
   "execution_count": null,
   "id": "c0068b36",
   "metadata": {},
   "outputs": [],
   "source": []
  }
 ],
 "metadata": {
  "kernelspec": {
   "display_name": "Python 3 (ipykernel)",
   "language": "python",
   "name": "python3"
  },
  "language_info": {
   "codemirror_mode": {
    "name": "ipython",
    "version": 3
   },
   "file_extension": ".py",
   "mimetype": "text/x-python",
   "name": "python",
   "nbconvert_exporter": "python",
   "pygments_lexer": "ipython3",
   "version": "3.9.12"
  }
 },
 "nbformat": 4,
 "nbformat_minor": 5
}
