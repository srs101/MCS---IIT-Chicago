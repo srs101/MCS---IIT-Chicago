{
 "cells": [
  {
   "cell_type": "markdown",
   "id": "5a35002d",
   "metadata": {},
   "source": [
    "# Name: Sahil \n",
    "# Subject: CS 458 2023\n",
    "# A20518693\n",
    "Cipher Text: CSYEVIXIVQMREXIH"
   ]
  },
  {
   "cell_type": "markdown",
   "id": "d779000c",
   "metadata": {},
   "source": [
    "The given Cipher Text will be decrypted using a brute force attack"
   ]
  },
  {
   "cell_type": "code",
   "execution_count": 2,
   "id": "f75c1b53",
   "metadata": {},
   "outputs": [
    {
     "name": "stdout",
     "output_type": "stream",
     "text": [
      "CSYEVIXIVQMREXIH\n"
     ]
    }
   ],
   "source": [
    "cipher_text ='CSYEVIXIVQMREXIH'\n",
    "print(cipher_text)\n"
   ]
  },
  {
   "cell_type": "markdown",
   "id": "50fbfe2d",
   "metadata": {},
   "source": [
    "I converted the string elements into their corressponding ASCII values by converting this string into a list"
   ]
  },
  {
   "cell_type": "code",
   "execution_count": 3,
   "id": "3ec83be3",
   "metadata": {},
   "outputs": [
    {
     "data": {
      "text/plain": [
       "[67, 83, 89, 69, 86, 73, 88, 73, 86, 81, 77, 82, 69, 88, 73, 72]"
      ]
     },
     "execution_count": 3,
     "metadata": {},
     "output_type": "execute_result"
    }
   ],
   "source": [
    "list(bytes(cipher_text,'ascii'))"
   ]
  },
  {
   "cell_type": "code",
   "execution_count": 27,
   "id": "0fad3f29",
   "metadata": {},
   "outputs": [],
   "source": [
    "ASCII_val = list(bytes(cipher_text,'ascii'))"
   ]
  },
  {
   "cell_type": "code",
   "execution_count": 28,
   "id": "bf1e4e90",
   "metadata": {},
   "outputs": [
    {
     "name": "stdout",
     "output_type": "stream",
     "text": [
      "[67, 83, 89, 69, 86, 73, 88, 73, 86, 81, 77, 82, 69, 88, 73, 72]\n"
     ]
    }
   ],
   "source": [
    "print(ASCII_val)"
   ]
  },
  {
   "cell_type": "code",
   "execution_count": 8,
   "id": "ccb56b6c",
   "metadata": {},
   "outputs": [
    {
     "data": {
      "text/plain": [
       "65"
      ]
     },
     "execution_count": 8,
     "metadata": {},
     "output_type": "execute_result"
    }
   ],
   "source": [
    "ord('A')"
   ]
  },
  {
   "cell_type": "code",
   "execution_count": 9,
   "id": "5fd32d92",
   "metadata": {},
   "outputs": [
    {
     "data": {
      "text/plain": [
       "90"
      ]
     },
     "execution_count": 9,
     "metadata": {},
     "output_type": "execute_result"
    }
   ],
   "source": [
    "ord('Z')"
   ]
  },
  {
   "cell_type": "code",
   "execution_count": 29,
   "id": "85eb32d9",
   "metadata": {},
   "outputs": [
    {
     "name": "stdout",
     "output_type": "stream",
     "text": [
      "[66, 82, 88, 68, 85, 72, 87, 72, 85, 80, 76, 81, 68, 87, 72, 71]\n",
      "[65, 81, 87, 67, 84, 71, 86, 71, 84, 79, 75, 80, 67, 86, 71, 70]\n",
      "[90, 80, 86, 66, 83, 70, 85, 70, 83, 78, 74, 79, 66, 85, 70, 69]\n",
      "[89, 79, 85, 65, 82, 69, 84, 69, 82, 77, 73, 78, 65, 84, 69, 68]\n",
      "[88, 78, 84, 90, 81, 68, 83, 68, 81, 76, 72, 77, 90, 83, 68, 67]\n",
      "[87, 77, 83, 89, 80, 67, 82, 67, 80, 75, 71, 76, 89, 82, 67, 66]\n",
      "[86, 76, 82, 88, 79, 66, 81, 66, 79, 74, 70, 75, 88, 81, 66, 65]\n",
      "[85, 75, 81, 87, 78, 65, 80, 65, 78, 73, 69, 74, 87, 80, 65, 90]\n",
      "[84, 74, 80, 86, 77, 90, 79, 90, 77, 72, 68, 73, 86, 79, 90, 89]\n",
      "[83, 73, 79, 85, 76, 89, 78, 89, 76, 71, 67, 72, 85, 78, 89, 88]\n",
      "[82, 72, 78, 84, 75, 88, 77, 88, 75, 70, 66, 71, 84, 77, 88, 87]\n",
      "[81, 71, 77, 83, 74, 87, 76, 87, 74, 69, 65, 70, 83, 76, 87, 86]\n",
      "[80, 70, 76, 82, 73, 86, 75, 86, 73, 68, 90, 69, 82, 75, 86, 85]\n",
      "[79, 69, 75, 81, 72, 85, 74, 85, 72, 67, 89, 68, 81, 74, 85, 84]\n",
      "[78, 68, 74, 80, 71, 84, 73, 84, 71, 66, 88, 67, 80, 73, 84, 83]\n",
      "[77, 67, 73, 79, 70, 83, 72, 83, 70, 65, 87, 66, 79, 72, 83, 82]\n",
      "[76, 66, 72, 78, 69, 82, 71, 82, 69, 90, 86, 65, 78, 71, 82, 81]\n",
      "[75, 65, 71, 77, 68, 81, 70, 81, 68, 89, 85, 90, 77, 70, 81, 80]\n",
      "[74, 90, 70, 76, 67, 80, 69, 80, 67, 88, 84, 89, 76, 69, 80, 79]\n",
      "[73, 89, 69, 75, 66, 79, 68, 79, 66, 87, 83, 88, 75, 68, 79, 78]\n",
      "[72, 88, 68, 74, 65, 78, 67, 78, 65, 86, 82, 87, 74, 67, 78, 77]\n",
      "[71, 87, 67, 73, 90, 77, 66, 77, 90, 85, 81, 86, 73, 66, 77, 76]\n",
      "[70, 86, 66, 72, 89, 76, 65, 76, 89, 84, 80, 85, 72, 65, 76, 75]\n",
      "[69, 85, 65, 71, 88, 75, 90, 75, 88, 83, 79, 84, 71, 90, 75, 74]\n",
      "[68, 84, 90, 70, 87, 74, 89, 74, 87, 82, 78, 83, 70, 89, 74, 73]\n",
      "[67, 83, 89, 69, 86, 73, 88, 73, 86, 81, 77, 82, 69, 88, 73, 72]\n"
     ]
    }
   ],
   "source": [
    "for x in range(1,27):\n",
    "    target=[]\n",
    "    for i in ASCII_val:\n",
    "        if i-x<65:\n",
    "            i=i-x+26\n",
    "        else:\n",
    "            i=i-x  \n",
    "        target.append(i)\n",
    "    print(target)   \n",
    "    \n",
    "    "
   ]
  },
  {
   "cell_type": "markdown",
   "id": "d71b749f",
   "metadata": {},
   "source": [
    "I was able to decrease the ASCII value of the given cipher text with the key, now I'll convert this list back to a string to print the final output."
   ]
  },
  {
   "cell_type": "code",
   "execution_count": 30,
   "id": "0c7afa9f",
   "metadata": {},
   "outputs": [
    {
     "name": "stdout",
     "output_type": "stream",
     "text": [
      "['C', 'S', 'Y', 'E', 'V', 'I', 'X', 'I', 'V', 'Q', 'M', 'R', 'E', 'X', 'I', 'H']\n",
      "['B', 'R', 'X', 'D', 'U', 'H', 'W', 'H', 'U', 'P', 'L', 'Q', 'D', 'W', 'H', 'G']\n",
      "['A', 'Q', 'W', 'C', 'T', 'G', 'V', 'G', 'T', 'O', 'K', 'P', 'C', 'V', 'G', 'F']\n",
      "['Z', 'P', 'V', 'B', 'S', 'F', 'U', 'F', 'S', 'N', 'J', 'O', 'B', 'U', 'F', 'E']\n",
      "['Y', 'O', 'U', 'A', 'R', 'E', 'T', 'E', 'R', 'M', 'I', 'N', 'A', 'T', 'E', 'D']\n",
      "['X', 'N', 'T', 'Z', 'Q', 'D', 'S', 'D', 'Q', 'L', 'H', 'M', 'Z', 'S', 'D', 'C']\n",
      "['W', 'M', 'S', 'Y', 'P', 'C', 'R', 'C', 'P', 'K', 'G', 'L', 'Y', 'R', 'C', 'B']\n",
      "['V', 'L', 'R', 'X', 'O', 'B', 'Q', 'B', 'O', 'J', 'F', 'K', 'X', 'Q', 'B', 'A']\n",
      "['U', 'K', 'Q', 'W', 'N', 'A', 'P', 'A', 'N', 'I', 'E', 'J', 'W', 'P', 'A', 'Z']\n",
      "['T', 'J', 'P', 'V', 'M', 'Z', 'O', 'Z', 'M', 'H', 'D', 'I', 'V', 'O', 'Z', 'Y']\n",
      "['S', 'I', 'O', 'U', 'L', 'Y', 'N', 'Y', 'L', 'G', 'C', 'H', 'U', 'N', 'Y', 'X']\n",
      "['R', 'H', 'N', 'T', 'K', 'X', 'M', 'X', 'K', 'F', 'B', 'G', 'T', 'M', 'X', 'W']\n",
      "['Q', 'G', 'M', 'S', 'J', 'W', 'L', 'W', 'J', 'E', 'A', 'F', 'S', 'L', 'W', 'V']\n",
      "['P', 'F', 'L', 'R', 'I', 'V', 'K', 'V', 'I', 'D', 'Z', 'E', 'R', 'K', 'V', 'U']\n",
      "['O', 'E', 'K', 'Q', 'H', 'U', 'J', 'U', 'H', 'C', 'Y', 'D', 'Q', 'J', 'U', 'T']\n",
      "['N', 'D', 'J', 'P', 'G', 'T', 'I', 'T', 'G', 'B', 'X', 'C', 'P', 'I', 'T', 'S']\n",
      "['M', 'C', 'I', 'O', 'F', 'S', 'H', 'S', 'F', 'A', 'W', 'B', 'O', 'H', 'S', 'R']\n",
      "['L', 'B', 'H', 'N', 'E', 'R', 'G', 'R', 'E', 'Z', 'V', 'A', 'N', 'G', 'R', 'Q']\n",
      "['K', 'A', 'G', 'M', 'D', 'Q', 'F', 'Q', 'D', 'Y', 'U', 'Z', 'M', 'F', 'Q', 'P']\n",
      "['J', 'Z', 'F', 'L', 'C', 'P', 'E', 'P', 'C', 'X', 'T', 'Y', 'L', 'E', 'P', 'O']\n",
      "['I', 'Y', 'E', 'K', 'B', 'O', 'D', 'O', 'B', 'W', 'S', 'X', 'K', 'D', 'O', 'N']\n",
      "['H', 'X', 'D', 'J', 'A', 'N', 'C', 'N', 'A', 'V', 'R', 'W', 'J', 'C', 'N', 'M']\n",
      "['G', 'W', 'C', 'I', 'Z', 'M', 'B', 'M', 'Z', 'U', 'Q', 'V', 'I', 'B', 'M', 'L']\n",
      "['F', 'V', 'B', 'H', 'Y', 'L', 'A', 'L', 'Y', 'T', 'P', 'U', 'H', 'A', 'L', 'K']\n",
      "['E', 'U', 'A', 'G', 'X', 'K', 'Z', 'K', 'X', 'S', 'O', 'T', 'G', 'Z', 'K', 'J']\n",
      "['D', 'T', 'Z', 'F', 'W', 'J', 'Y', 'J', 'W', 'R', 'N', 'S', 'F', 'Y', 'J', 'I']\n"
     ]
    }
   ],
   "source": [
    "for x in range(26):\n",
    "    target=[]\n",
    "    for i in ASCII_val:\n",
    "        if i-x<65:\n",
    "            i=i-x+26\n",
    "        else:\n",
    "            i=i-x  \n",
    "        target.append(i)\n",
    "    final=[]\n",
    "    for i in target:\n",
    "        final.append(chr(i))\n",
    "    print(final)   \n",
    "    \n",
    "    "
   ]
  },
  {
   "cell_type": "markdown",
   "id": "dd2081a0",
   "metadata": {},
   "source": [
    "## Code with expected output"
   ]
  },
  {
   "cell_type": "code",
   "execution_count": 35,
   "id": "73000293",
   "metadata": {},
   "outputs": [
    {
     "name": "stdout",
     "output_type": "stream",
     "text": [
      "KEY =  0  Plaintext =  CSYEVIXIVQMREXIH\n",
      "KEY =  1  Plaintext =  BRXDUHWHUPLQDWHG\n",
      "KEY =  2  Plaintext =  AQWCTGVGTOKPCVGF\n",
      "KEY =  3  Plaintext =  ZPVBSFUFSNJOBUFE\n",
      "KEY =  4  Plaintext =  YOUARETERMINATED\n",
      "KEY =  5  Plaintext =  XNTZQDSDQLHMZSDC\n",
      "KEY =  6  Plaintext =  WMSYPCRCPKGLYRCB\n",
      "KEY =  7  Plaintext =  VLRXOBQBOJFKXQBA\n",
      "KEY =  8  Plaintext =  UKQWNAPANIEJWPAZ\n",
      "KEY =  9  Plaintext =  TJPVMZOZMHDIVOZY\n",
      "KEY =  10  Plaintext =  SIOULYNYLGCHUNYX\n",
      "KEY =  11  Plaintext =  RHNTKXMXKFBGTMXW\n",
      "KEY =  12  Plaintext =  QGMSJWLWJEAFSLWV\n",
      "KEY =  13  Plaintext =  PFLRIVKVIDZERKVU\n",
      "KEY =  14  Plaintext =  OEKQHUJUHCYDQJUT\n",
      "KEY =  15  Plaintext =  NDJPGTITGBXCPITS\n",
      "KEY =  16  Plaintext =  MCIOFSHSFAWBOHSR\n",
      "KEY =  17  Plaintext =  LBHNERGREZVANGRQ\n",
      "KEY =  18  Plaintext =  KAGMDQFQDYUZMFQP\n",
      "KEY =  19  Plaintext =  JZFLCPEPCXTYLEPO\n",
      "KEY =  20  Plaintext =  IYEKBODOBWSXKDON\n",
      "KEY =  21  Plaintext =  HXDJANCNAVRWJCNM\n",
      "KEY =  22  Plaintext =  GWCIZMBMZUQVIBML\n",
      "KEY =  23  Plaintext =  FVBHYLALYTPUHALK\n",
      "KEY =  24  Plaintext =  EUAGXKZKXSOTGZKJ\n",
      "KEY =  25  Plaintext =  DTZFWJYJWRNSFYJI\n"
     ]
    }
   ],
   "source": [
    "for x in range(26):\n",
    "    target=[]\n",
    "    for i in ASCII_val:\n",
    "        if i-x<65:\n",
    "            i=i-x+26\n",
    "        else:\n",
    "            i=i-x  \n",
    "        target.append(i)\n",
    "    final=[]\n",
    "    for i in target:\n",
    "        final.append(chr(i))\n",
    "    str1 = \"\"\n",
    "    #str1.join(final)\n",
    "    print(\"KEY = \",x,\" Plaintext = \",str1.join(final))\n",
    "    #print(final)   \n",
    "    \n",
    "    "
   ]
  },
  {
   "cell_type": "markdown",
   "id": "298b3cce",
   "metadata": {},
   "source": [
    "## I updated to code accept Cipher text from user.\n",
    "## For this example the cipher text will be: KHOORKRZDUHBRX\n",
    "They key is 3 and the decrypyed output should be: HELLOHOWAREYOU"
   ]
  },
  {
   "cell_type": "code",
   "execution_count": 58,
   "id": "d7f84a01",
   "metadata": {},
   "outputs": [
    {
     "name": "stdout",
     "output_type": "stream",
     "text": [
      "Enter Cipher Text: KHOORKRZDUHBRX\n",
      "KEY =  0  Plaintext =  KHOORKRZDUHBRX\n",
      "KEY =  1  Plaintext =  JGNNQJQYCTGAQW\n",
      "KEY =  2  Plaintext =  IFMMPIPXBSFZPV\n",
      "KEY =  3  Plaintext =  HELLOHOWAREYOU\n",
      "KEY =  4  Plaintext =  GDKKNGNVZQDXNT\n",
      "KEY =  5  Plaintext =  FCJJMFMUYPCWMS\n",
      "KEY =  6  Plaintext =  EBIILELTXOBVLR\n",
      "KEY =  7  Plaintext =  DAHHKDKSWNAUKQ\n",
      "KEY =  8  Plaintext =  CZGGJCJRVMZTJP\n",
      "KEY =  9  Plaintext =  BYFFIBIQULYSIO\n",
      "KEY =  10  Plaintext =  AXEEHAHPTKXRHN\n",
      "KEY =  11  Plaintext =  ZWDDGZGOSJWQGM\n",
      "KEY =  12  Plaintext =  YVCCFYFNRIVPFL\n",
      "KEY =  13  Plaintext =  XUBBEXEMQHUOEK\n",
      "KEY =  14  Plaintext =  WTAADWDLPGTNDJ\n",
      "KEY =  15  Plaintext =  VSZZCVCKOFSMCI\n",
      "KEY =  16  Plaintext =  URYYBUBJNERLBH\n",
      "KEY =  17  Plaintext =  TQXXATAIMDQKAG\n",
      "KEY =  18  Plaintext =  SPWWZSZHLCPJZF\n",
      "KEY =  19  Plaintext =  ROVVYRYGKBOIYE\n",
      "KEY =  20  Plaintext =  QNUUXQXFJANHXD\n",
      "KEY =  21  Plaintext =  PMTTWPWEIZMGWC\n",
      "KEY =  22  Plaintext =  OLSSVOVDHYLFVB\n",
      "KEY =  23  Plaintext =  NKRRUNUCGXKEUA\n",
      "KEY =  24  Plaintext =  MJQQTMTBFWJDTZ\n",
      "KEY =  25  Plaintext =  LIPPSLSAEVICSY\n"
     ]
    }
   ],
   "source": [
    "input_text = input(\"Enter Cipher Text: \")\n",
    "ASCII_val = list(bytes(input_text,'ascii'))\n",
    "for x in range(26):\n",
    "    target=[]\n",
    "    for i in ASCII_val:\n",
    "        if i-x<65:\n",
    "            i=i-x+26\n",
    "        else:\n",
    "            i=i-x  \n",
    "        target.append(i)\n",
    "    final=[]\n",
    "    for i in target:\n",
    "        final.append(chr(i))\n",
    "    str1 = \"\"\n",
    "    #str1.join(final)\n",
    "    print(\"KEY = \",x,\" Plaintext = \",str1.join(final))\n",
    "    #print(final)   "
   ]
  },
  {
   "cell_type": "code",
   "execution_count": 37,
   "id": "40acc375",
   "metadata": {},
   "outputs": [
    {
     "data": {
      "text/plain": [
       "97"
      ]
     },
     "execution_count": 37,
     "metadata": {},
     "output_type": "execute_result"
    }
   ],
   "source": [
    "ord('a')"
   ]
  },
  {
   "cell_type": "code",
   "execution_count": 38,
   "id": "37837f56",
   "metadata": {},
   "outputs": [
    {
     "data": {
      "text/plain": [
       "122"
      ]
     },
     "execution_count": 38,
     "metadata": {},
     "output_type": "execute_result"
    }
   ],
   "source": [
    "ord('z')"
   ]
  },
  {
   "cell_type": "markdown",
   "id": "c035c334",
   "metadata": {},
   "source": [
    "## Cipher Text: MjqqtMtbFwjDtz\n",
    "with key=5 and plain text to be:HelloHowAreYou"
   ]
  },
  {
   "cell_type": "code",
   "execution_count": 82,
   "id": "80540d89",
   "metadata": {},
   "outputs": [
    {
     "name": "stdout",
     "output_type": "stream",
     "text": [
      "Enter Cipher Text: MjqqtMtbFwjDtz\n",
      "KEY =  0  Plaintext =  MjqqtMtbFwjDtz\n",
      "KEY =  1  Plaintext =  LippsLsaEviCsy\n",
      "KEY =  2  Plaintext =  KhoorKrzDuhBrx\n",
      "KEY =  3  Plaintext =  JgnnqJqyCtgAqw\n",
      "KEY =  4  Plaintext =  IfmmpIpxBsfZpv\n",
      "KEY =  5  Plaintext =  HelloHowAreYou\n",
      "KEY =  6  Plaintext =  GdkknGnvZqdXnt\n",
      "KEY =  7  Plaintext =  FcjjmFmuYpcWms\n",
      "KEY =  8  Plaintext =  EbiilEltXobVlr\n",
      "KEY =  9  Plaintext =  DahhkDksWnaUkq\n",
      "KEY =  10  Plaintext =  CzggjCjrVmzTjp\n",
      "KEY =  11  Plaintext =  ByffiBiqUlySio\n",
      "KEY =  12  Plaintext =  AxeehAhpTkxRhn\n",
      "KEY =  13  Plaintext =  ZwddgZgoSjwQgm\n",
      "KEY =  14  Plaintext =  YvccfYfnRivPfl\n",
      "KEY =  15  Plaintext =  XubbeXemQhuOek\n",
      "KEY =  16  Plaintext =  WtaadWdlPgtNdj\n",
      "KEY =  17  Plaintext =  VszzcVckOfsMci\n",
      "KEY =  18  Plaintext =  UryybUbjNerLbh\n",
      "KEY =  19  Plaintext =  TqxxaTaiMdqKag\n",
      "KEY =  20  Plaintext =  SpwwzSzhLcpJzf\n",
      "KEY =  21  Plaintext =  RovvyRygKboIye\n",
      "KEY =  22  Plaintext =  QnuuxQxfJanHxd\n",
      "KEY =  23  Plaintext =  PmttwPweIzmGwc\n",
      "KEY =  24  Plaintext =  OlssvOvdHylFvb\n",
      "KEY =  25  Plaintext =  NkrruNucGxkEua\n"
     ]
    }
   ],
   "source": [
    "input_text = input(\"Enter Cipher Text: \")\n",
    "ASCII_val = list(bytes(input_text,'ascii'))\n",
    "#print(ASCII_val)\n",
    "for x in range(26):\n",
    "    target=[]\n",
    "    for i in ASCII_val:\n",
    "        if i<91: #to check is letter is uppercase \n",
    "            if i-x<65:\n",
    "                i=i-x+26\n",
    "            else:\n",
    "                i=i-x  \n",
    "        else:\n",
    "            if i-x<97:\n",
    "                i= (i-97-x)+123\n",
    "                #print(i)\n",
    "            else:\n",
    "                i=i-x\n",
    "        target.append(i)  \n",
    "    final=[]\n",
    "    #print(target)\n",
    "    for i in target:\n",
    "        final.append(chr(i))\n",
    "    str1 = \"\"\n",
    "    print(\"KEY = \",x,\" Plaintext = \",str1.join(final))  "
   ]
  }
 ],
 "metadata": {
  "kernelspec": {
   "display_name": "Python 3 (ipykernel)",
   "language": "python",
   "name": "python3"
  },
  "language_info": {
   "codemirror_mode": {
    "name": "ipython",
    "version": 3
   },
   "file_extension": ".py",
   "mimetype": "text/x-python",
   "name": "python",
   "nbconvert_exporter": "python",
   "pygments_lexer": "ipython3",
   "version": "3.9.12"
  }
 },
 "nbformat": 4,
 "nbformat_minor": 5
}
