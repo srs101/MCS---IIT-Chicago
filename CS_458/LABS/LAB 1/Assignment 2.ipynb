{
 "cells": [
  {
   "cell_type": "markdown",
   "id": "c373c3e5",
   "metadata": {},
   "source": [
    "## Sahil Sheikh\n",
    "## A25018693\n",
    "## Breaking Permmutation Cipher"
   ]
  },
  {
   "cell_type": "code",
   "execution_count": 94,
   "id": "0d3c7e9f",
   "metadata": {},
   "outputs": [
    {
     "name": "stdout",
     "output_type": "stream",
     "text": [
      "XWEEWM,IBMIB,TI,MWK,IW,XWEEWM\n"
     ]
    }
   ],
   "source": [
    "cipher_text =\"XWEEWM,IBMIB,TI,MWK,IW,XWEEWM\"\n",
    "print(cipher_text)"
   ]
  },
  {
   "cell_type": "markdown",
   "id": "44d2d340",
   "metadata": {},
   "source": [
    "Counting occurances of each element of the cipher_text"
   ]
  },
  {
   "cell_type": "code",
   "execution_count": 95,
   "id": "c91f3973",
   "metadata": {},
   "outputs": [
    {
     "name": "stdout",
     "output_type": "stream",
     "text": [
      "The occurances of each element of given cipher text are as follows:\n",
      "{'X': 2, 'W': 6, 'E': 4, 'M': 4, ',': 5, 'I': 4, 'B': 2, 'T': 1, 'K': 1}\n"
     ]
    }
   ],
   "source": [
    "freq ={}\n",
    "for i in cipher_text:\n",
    "    if i in freq:\n",
    "        freq[i] +=1\n",
    "    else:\n",
    "        freq[i]=1\n",
    "print(\"The occurances of each element of given cipher text are as follows:\")\n",
    "print(freq)"
   ]
  },
  {
   "cell_type": "code",
   "execution_count": 96,
   "id": "d35f18c9",
   "metadata": {},
   "outputs": [
    {
     "name": "stdout",
     "output_type": "stream",
     "text": [
      "29\n"
     ]
    }
   ],
   "source": [
    "total=len(cipher_text)\n",
    "print(total)"
   ]
  },
  {
   "cell_type": "code",
   "execution_count": 97,
   "id": "41edc71e",
   "metadata": {},
   "outputs": [
    {
     "name": "stdout",
     "output_type": "stream",
     "text": [
      "{'X': 6.896551724137931, 'W': 20.689655172413794, 'E': 13.793103448275861, 'M': 13.793103448275861, ',': 17.24137931034483, 'I': 13.793103448275861, 'B': 6.896551724137931, 'T': 3.4482758620689653, 'K': 3.4482758620689653}\n"
     ]
    }
   ],
   "source": [
    "pro={}\n",
    "for i in freq:\n",
    "    pro[i] = freq[i]/total*100\n",
    "    pro_total=pro_total+pro[i]\n",
    "print(pro)"
   ]
  },
  {
   "cell_type": "code",
   "execution_count": 119,
   "id": "d7818288",
   "metadata": {},
   "outputs": [
    {
     "name": "stdout",
     "output_type": "stream",
     "text": [
      "Letter \t Frequency\n",
      "\n",
      " E  \t  11.1607\n",
      "\n",
      " A  \t  8.4966\n",
      "\n",
      " R  \t  7.5809\n",
      "\n",
      " I  \t  7.5448\n",
      "\n",
      " O  \t  7.1635\n",
      "\n",
      " T  \t  6.9509\n",
      "\n",
      " N  \t  6.6544\n",
      "\n",
      " S  \t  5.7351\n",
      "\n",
      " L  \t  5.4893\n",
      "\n",
      " C  \t  4.5388\n",
      "\n",
      " U  \t  3.6308\n",
      "\n",
      " D  \t  3.3844\n",
      "\n",
      " P  \t  3.1671\n",
      "\n",
      " M  \t  3.0129\n",
      "\n",
      " H  \t  3.0034\n",
      "\n",
      " G  \t  2.4705\n",
      "\n",
      " B  \t  2.072\n",
      "\n",
      " F  \t  1.8121\n",
      "\n",
      " Y  \t  1.7779\n",
      "\n",
      " W  \t  1.2899\n",
      "\n",
      " K  \t  1.1016\n",
      "\n",
      " V  \t  1.0074\n",
      "\n",
      " X  \t  0.2902\n",
      "\n",
      " Z  \t  0.2722\n",
      "\n",
      " J  \t  0.1965\n",
      "\n",
      " Q  \t  0.1962\n"
     ]
    }
   ],
   "source": [
    "LetterFreq = { 'E': 11.1607, 'A': 8.4966, 'R': 7.5809, 'I': 7.5448, 'O': 7.1635, 'T': 6.9509, 'N': 6.6544, 'S': 5.7351,'L': 5.4893, 'C': 4.5388, 'U': 3.6308, 'D': 3.3844, 'P': 3.1671, 'M': 3.0129, 'H': 3.0034, 'G': 2.4705,'B': 2.0720, 'F': 1.8121, 'Y': 1.7779, 'W': 1.2899, 'K': 1.1016, 'V': 1.0074, 'X': 0.2902, 'Z': 0.2722,'J': 0.1965, 'Q': 0.1962}\n",
    "print(\"Letter \\t Frequency\")\n",
    "for i,j in LetterFreq.items():\n",
    "    print(\"\\n\",i,\" \\t \",j)\n",
    "       "
   ]
  },
  {
   "cell_type": "markdown",
   "id": "c033beac",
   "metadata": {},
   "source": [
    "# From the given sloved example we can say the following are correct gusses:\n",
    "## X -> C,\n",
    "## W -> O,\n",
    "## E -> M,\n",
    "## , -> (space)\n",
    "## Cipher_text = XWEEWM,IBMIB,TI,MWK,IW,XWEEWM\n",
    "The partily decrypted plain text is: COMMON ??N?? ?? NO? ?O COMMON"
   ]
  },
  {
   "cell_type": "markdown",
   "id": "5913b178",
   "metadata": {},
   "source": [
    "Now I have to guess the remaining letters which are: I,B,T,I"
   ]
  },
  {
   "cell_type": "code",
   "execution_count": 120,
   "id": "465ce08d",
   "metadata": {},
   "outputs": [
    {
     "name": "stdout",
     "output_type": "stream",
     "text": [
      "{'X': 0.2902, 'W': 1.2899, 'E': 11.1607, 'M': 3.0129, ',': '', 'I': 7.5448, 'B': 2.072, 'T': 6.9509, 'K': 1.1016}\n"
     ]
    }
   ],
   "source": [
    "final={}\n",
    "for i,j in pro.items():\n",
    "    key=i\n",
    "    if key in LetterFreq:\n",
    "        final[i]= LetterFreq[key]\n",
    "    else:\n",
    "        final[i]=\"\"\n",
    "print(final)"
   ]
  },
  {
   "cell_type": "code",
   "execution_count": 121,
   "id": "424013db",
   "metadata": {},
   "outputs": [
    {
     "name": "stdout",
     "output_type": "stream",
     "text": [
      "CipherText \t Occuranes \t AlphabetFrequency \t Frequency in ciphertext\n",
      "\n",
      " X  \t\t  2  \t\t 0.2902 \t\t\t 6.896551724137931\n",
      "\n",
      " W  \t\t  6  \t\t 1.2899 \t\t\t 20.689655172413794\n",
      "\n",
      " E  \t\t  4  \t\t 11.1607 \t\t\t 13.793103448275861\n",
      "\n",
      " M  \t\t  4  \t\t 3.0129 \t\t\t 13.793103448275861\n",
      "\n",
      " ,  \t\t  5  \t\t  \t\t\t 17.24137931034483\n",
      "\n",
      " I  \t\t  4  \t\t 7.5448 \t\t\t 13.793103448275861\n",
      "\n",
      " B  \t\t  2  \t\t 2.072 \t\t\t 6.896551724137931\n",
      "\n",
      " T  \t\t  1  \t\t 6.9509 \t\t\t 3.4482758620689653\n",
      "\n",
      " K  \t\t  1  \t\t 1.1016 \t\t\t 3.4482758620689653\n"
     ]
    }
   ],
   "source": [
    "print(\"CipherText \\t Occuranes \\t AlphabetFrequency \\t Frequency in ciphertext\")\n",
    "for i,j in freq.items():\n",
    "    key =i;\n",
    "    print(\"\\n\",i,\" \\t\\t \",j,\" \\t\\t\",final[key],\"\\t\\t\\t\",pro[key])"
   ]
  },
  {
   "cell_type": "code",
   "execution_count": 110,
   "id": "79a94d8d",
   "metadata": {},
   "outputs": [
    {
     "name": "stdout",
     "output_type": "stream",
     "text": [
      "\n",
      "\n",
      "You can look at the Letter-Frequency Table for referance \n",
      "CIPHER TEXT:  XWEEWM,IBMIB,TI,MWK,IW,XWEEWM\n",
      "['X', 'W', 'E', 'E', 'W', 'M', ',', 'I', 'B', 'M', 'I', 'B', ',', 'T', 'I', ',', 'M', 'W', 'K', ',', 'I', 'W', ',', 'X', 'W', 'E', 'E', 'W', 'M']\n",
      "What letter do you think ' X '' correspondons in English Language? \n",
      "c\n",
      "What letter do you think ' W '' correspondons in English Language? \n",
      "o\n",
      "What letter do you think ' E '' correspondons in English Language? \n",
      "m\n",
      "What letter do you think ' M '' correspondons in English Language? \n",
      "n\n",
      "What letter do you think ' , '' correspondons in English Language? \n",
      " \n",
      "What letter do you think ' I '' correspondons in English Language? \n",
      "a\n",
      "What letter do you think ' B '' correspondons in English Language? \n",
      "s\n",
      "What letter do you think ' T '' correspondons in English Language? \n",
      "r\n",
      "What letter do you think ' K '' correspondons in English Language? \n",
      "l\n",
      "KEY:  {'X': 'c', 'W': 'o', 'E': 'm', 'M': 'n', ',': ' ', 'I': 'a', 'B': 's', 'T': 'r', 'K': 'l'}\n",
      "PLAIN TEXT:  common asnas ra nol ao common\n",
      "If you're not satisfied with Decrypted text you can rerun this : \n"
     ]
    }
   ],
   "source": [
    "print(\"\\n\\nYou can look at the Letter-Frequency Table for referance \")\n",
    "print(\"CIPHER TEXT: \",cipher_text)\n",
    "lis = {}\n",
    "plain_text = list(cipher_text)\n",
    "print(plain_text)\n",
    "for i,j in freq.items():\n",
    "    print(\"What letter do you think '\",i,\"'' correspondons in English Language? \")\n",
    "    letter = input()\n",
    "    lis[i]=letter\n",
    "    old_letter = i\n",
    "        #print(type(old_letter))\n",
    "        #print(type(letter))\n",
    "print(\"KEY: \",lis)\n",
    "for i,j in lis.items():\n",
    "    for k in plain_text:\n",
    "        if i==k:\n",
    "            index= plain_text.index(k)\n",
    "            plain_text[index]=j\n",
    "str1=\"\"\n",
    "print(\"PLAIN TEXT: \",str1.join(plain_text))\n",
    "print(\"If you're not satisfied with Decrypted text you can rerun this : \")"
   ]
  },
  {
   "cell_type": "code",
   "execution_count": 111,
   "id": "f00f75fe",
   "metadata": {},
   "outputs": [
    {
     "name": "stdout",
     "output_type": "stream",
     "text": [
      "\n",
      "\n",
      "You can look at the Letter-Frequency Table for referance \n",
      "CIPHER TEXT:  XWEEWM,IBMIB,TI,MWK,IW,XWEEWM\n",
      "['X', 'W', 'E', 'E', 'W', 'M', ',', 'I', 'B', 'M', 'I', 'B', ',', 'T', 'I', ',', 'M', 'W', 'K', ',', 'I', 'W', ',', 'X', 'W', 'E', 'E', 'W', 'M']\n",
      "What letter do you think ' X '' correspondons in English Language? \n",
      "c\n",
      "What letter do you think ' W '' correspondons in English Language? \n",
      "o\n",
      "What letter do you think ' E '' correspondons in English Language? \n",
      "m\n",
      "What letter do you think ' M '' correspondons in English Language? \n",
      "n\n",
      "What letter do you think ' , '' correspondons in English Language? \n",
      " \n",
      "What letter do you think ' I '' correspondons in English Language? \n",
      "s\n",
      "What letter do you think ' B '' correspondons in English Language? \n",
      "a\n",
      "What letter do you think ' T '' correspondons in English Language? \n",
      "i\n",
      "What letter do you think ' K '' correspondons in English Language? \n",
      "d\n",
      "KEY:  {'X': 'c', 'W': 'o', 'E': 'm', 'M': 'n', ',': ' ', 'I': 's', 'B': 'a', 'T': 'i', 'K': 'd'}\n",
      "PLAIN TEXT:  common sansa is nod so common\n",
      "If you're not satisfied with Decrypted text you can rerun this : \n"
     ]
    }
   ],
   "source": [
    "print(\"\\n\\nYou can look at the Letter-Frequency Table for referance \")\n",
    "print(\"CIPHER TEXT: \",cipher_text)\n",
    "lis = {}\n",
    "plain_text = list(cipher_text)\n",
    "print(plain_text)\n",
    "for i,j in freq.items():\n",
    "    print(\"What letter do you think '\",i,\"'' correspondons in English Language? \")\n",
    "    letter = input()\n",
    "    lis[i]=letter\n",
    "    old_letter = i\n",
    "        #print(type(old_letter))\n",
    "        #print(type(letter))\n",
    "print(\"KEY: \",lis)\n",
    "for i,j in lis.items():\n",
    "    for k in plain_text:\n",
    "        if i==k:\n",
    "            index= plain_text.index(k)\n",
    "            plain_text[index]=j\n",
    "str1=\"\"\n",
    "print(\"PLAIN TEXT: \",str1.join(plain_text))\n",
    "print(\"If you're not satisfied with Decrypted text you can rerun this : \")"
   ]
  },
  {
   "cell_type": "code",
   "execution_count": 112,
   "id": "e84fd746",
   "metadata": {},
   "outputs": [
    {
     "name": "stdout",
     "output_type": "stream",
     "text": [
      "\n",
      "\n",
      "You can look at the Letter-Frequency Table for referance \n",
      "CIPHER TEXT:  XWEEWM,IBMIB,TI,MWK,IW,XWEEWM\n",
      "['X', 'W', 'E', 'E', 'W', 'M', ',', 'I', 'B', 'M', 'I', 'B', ',', 'T', 'I', ',', 'M', 'W', 'K', ',', 'I', 'W', ',', 'X', 'W', 'E', 'E', 'W', 'M']\n",
      "What letter do you think ' X '' correspondons in English Language? \n",
      "c\n",
      "What letter do you think ' W '' correspondons in English Language? \n",
      "o\n",
      "What letter do you think ' E '' correspondons in English Language? \n",
      "m\n",
      "What letter do you think ' M '' correspondons in English Language? \n",
      "n\n",
      "What letter do you think ' , '' correspondons in English Language? \n",
      " \n",
      "What letter do you think ' I '' correspondons in English Language? \n",
      "s\n",
      "What letter do you think ' B '' correspondons in English Language? \n",
      "e\n",
      "What letter do you think ' T '' correspondons in English Language? \n",
      "i\n",
      "What letter do you think ' K '' correspondons in English Language? \n",
      "t\n",
      "KEY:  {'X': 'c', 'W': 'o', 'E': 'm', 'M': 'n', ',': ' ', 'I': 's', 'B': 'e', 'T': 'i', 'K': 't'}\n",
      "PLAIN TEXT:  common sense is not so common\n",
      "If you're not satisfied with Decrypted text you can rerun this : \n"
     ]
    }
   ],
   "source": [
    "print(\"\\n\\nYou can look at the Letter-Frequency Table for referance \")\n",
    "print(\"CIPHER TEXT: \",cipher_text)\n",
    "lis = {}\n",
    "plain_text = list(cipher_text)\n",
    "print(plain_text)\n",
    "for i,j in freq.items():\n",
    "    print(\"What letter do you think '\",i,\"'' correspondons in English Language? \")\n",
    "    letter = input()\n",
    "    lis[i]=letter\n",
    "    old_letter = i\n",
    "        #print(type(old_letter))\n",
    "        #print(type(letter))\n",
    "print(\"KEY: \",lis)\n",
    "for i,j in lis.items():\n",
    "    for k in plain_text:\n",
    "        if i==k:\n",
    "            index= plain_text.index(k)\n",
    "            plain_text[index]=j\n",
    "str1=\"\"\n",
    "print(\"PLAIN TEXT: \",str1.join(plain_text))\n",
    "print(\"If you're not satisfied with Decrypted text you can rerun this : \")"
   ]
  },
  {
   "cell_type": "code",
   "execution_count": null,
   "id": "48f09396",
   "metadata": {},
   "outputs": [],
   "source": []
  }
 ],
 "metadata": {
  "kernelspec": {
   "display_name": "Python 3 (ipykernel)",
   "language": "python",
   "name": "python3"
  },
  "language_info": {
   "codemirror_mode": {
    "name": "ipython",
    "version": 3
   },
   "file_extension": ".py",
   "mimetype": "text/x-python",
   "name": "python",
   "nbconvert_exporter": "python",
   "pygments_lexer": "ipython3",
   "version": "3.9.12"
  }
 },
 "nbformat": 4,
 "nbformat_minor": 5
}
